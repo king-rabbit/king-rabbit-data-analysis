{
 "cells": [
  {
   "cell_type": "markdown",
   "metadata": {},
   "source": [
    "### json 데이터를 csv 파일로 저장하기"
   ]
  },
  {
   "cell_type": "code",
   "execution_count": 4,
   "metadata": {},
   "outputs": [],
   "source": [
    "import pandas as pd\n",
    "import json"
   ]
  },
  {
   "cell_type": "code",
   "execution_count": 5,
   "metadata": {},
   "outputs": [],
   "source": [
    "#json 파일 읽기\n",
    "with open('data/miserables.json', 'r') as f:\n",
    "    data = json.load(f)"
   ]
  },
  {
   "cell_type": "code",
   "execution_count": 11,
   "metadata": {},
   "outputs": [],
   "source": [
    "nodes = pd.DataFrame(data['nodes'])\n",
    "links = pd.DataFrame(data['links'])"
   ]
  },
  {
   "cell_type": "code",
   "execution_count": 13,
   "metadata": {},
   "outputs": [],
   "source": [
    "#데이터 저장\n",
    "nodes.to_csv('data/nodes.csv', index=False)\n",
    "links.to_csv('data/links.csv', index=False)"
   ]
  },
  {
   "cell_type": "markdown",
   "metadata": {},
   "source": [
    "- 데이터를 저장했으면 gephi로 가서 그래프를 그리고 그래프 파일을 저장한 후 좌표값 데이터만 뽑아서 다시 저장합니다."
   ]
  },
  {
   "cell_type": "markdown",
   "metadata": {},
   "source": [
    "### gephi에서 얻은 좌표 데이터 불러온 후 link데이터 정제하기"
   ]
  },
  {
   "cell_type": "code",
   "execution_count": 14,
   "metadata": {},
   "outputs": [],
   "source": [
    "#좌표 데이터 불러오기\n",
    "coordinates = pd.read_excel('data/coordinates.xlsx')"
   ]
  },
  {
   "cell_type": "code",
   "execution_count": 22,
   "metadata": {},
   "outputs": [],
   "source": [
    "#링크 데이터에 relationship 컬럼 생성\n",
    "links['relationship'] = [pair[0] + '->' + pair[1] for pair in zip(links['source'], links['target'])]"
   ]
  },
  {
   "cell_type": "code",
   "execution_count": 24,
   "metadata": {},
   "outputs": [],
   "source": [
    "# 태블로형 데이터로 변환\n",
    "links_re = links[['target', 'value', 'relationship']] #target ~ relationship 컬럼을 복사한 데이터프레임\n",
    "links_re = links_re.rename(columns={'target': 'id'}) #두 데이터프레임을 합치기 위해 컬럼 이름 변경\n",
    "links = links.rename(columns={'source': 'id'}) #두 데이터프레임을 합치기 위해 컬럼 이름 변경\n",
    "del links['target'] #필요없는 target 컬럼 제거\n",
    "links_concated = pd.concat([links, links_re]) #데이터 합치기"
   ]
  },
  {
   "cell_type": "code",
   "execution_count": 31,
   "metadata": {},
   "outputs": [],
   "source": [
    "#좌표값을 merge해줍니다.\n",
    "links_concated = pd.merge(links_concated, coordinates, on='id', how='left')"
   ]
  },
  {
   "cell_type": "code",
   "execution_count": 33,
   "metadata": {},
   "outputs": [],
   "source": [
    "links_concated.to_csv('data/links_concated.csv') #데이터 저장"
   ]
  }
 ],
 "metadata": {
  "kernelspec": {
   "display_name": "Python 3",
   "language": "python",
   "name": "python3"
  },
  "language_info": {
   "codemirror_mode": {
    "name": "ipython",
    "version": 3
   },
   "file_extension": ".py",
   "mimetype": "text/x-python",
   "name": "python",
   "nbconvert_exporter": "python",
   "pygments_lexer": "ipython3",
   "version": "3.8.3"
  }
 },
 "nbformat": 4,
 "nbformat_minor": 4
}
