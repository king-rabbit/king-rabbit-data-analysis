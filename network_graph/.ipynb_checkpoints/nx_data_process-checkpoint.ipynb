{
 "cells": [
  {
   "cell_type": "code",
   "execution_count": null,
   "metadata": {},
   "outputs": [],
   "source": [
    "# json 데이터를 csv 파일로 저장하기"
   ]
  },
  {
   "cell_type": "code",
   "execution_count": 4,
   "metadata": {},
   "outputs": [],
   "source": [
    "import pandas as pd\n",
    "import json"
   ]
  },
  {
   "cell_type": "code",
   "execution_count": 5,
   "metadata": {},
   "outputs": [],
   "source": [
    "with open('data/miserables.json', 'r') as f:\n",
    "    data = json.load(f)"
   ]
  },
  {
   "cell_type": "code",
   "execution_count": 11,
   "metadata": {},
   "outputs": [],
   "source": [
    "nodes = pd.DataFrame(data['nodes'])\n",
    "links = pd.DataFrame(data['links'])"
   ]
  },
  {
   "cell_type": "code",
   "execution_count": 13,
   "metadata": {},
   "outputs": [],
   "source": [
    "nodes.to_csv('data/nodes.csv', index=False)\n",
    "links.to_csv('data/links.csv', index=False)"
   ]
  },
  {
   "cell_type": "code",
   "execution_count": null,
   "metadata": {},
   "outputs": [],
   "source": [
    "# gephi로 가서 그래프를 그리고 그래프 파일을 저장한 후 좌표값 데이터만 뽑아서 다시 저장합니다."
   ]
  },
  {
   "cell_type": "code",
   "execution_count": null,
   "metadata": {},
   "outputs": [],
   "source": [
    "# gephi에서 얻은 좌표 데이터 불러온 후 link데이터 정제"
   ]
  },
  {
   "cell_type": "code",
   "execution_count": 14,
   "metadata": {},
   "outputs": [],
   "source": [
    "coordinates = pd.read_excel('data/coordinates.xlsx')"
   ]
  },
  {
   "cell_type": "code",
   "execution_count": 22,
   "metadata": {},
   "outputs": [],
   "source": [
    "#링크 데이터에 relationship 컬럼 생성\n",
    "links['relationship'] = [pair[0] + '->' + pair[1] for pair in zip(links['source'], links['target'])]"
   ]
  },
  {
   "cell_type": "code",
   "execution_count": 24,
   "metadata": {},
   "outputs": [],
   "source": [
    "# 태블로형 데이터로 변환\n",
    "links_re = links[['target', 'value', 'relationship']] #target ~ relationship 컬럼을 복사한 데이터프레임\n",
    "links_re = links_re.rename(columns={'target': 'id'}) #두 데이터프레임을 합치기 위해 컬럼 이름 변경\n",
    "links = links.rename(columns={'source': 'id'}) #두 데이터프레임을 합치기 위해 컬럼 이름 변경\n",
    "del links['target'] #필요없는 target 컬럼 제거\n",
    "links_concated = pd.concat([links, links_re]) #데이터 합치기"
   ]
  },
  {
   "cell_type": "code",
   "execution_count": 28,
   "metadata": {},
   "outputs": [
    {
     "data": {
      "text/html": [
       "<div>\n",
       "<style scoped>\n",
       "    .dataframe tbody tr th:only-of-type {\n",
       "        vertical-align: middle;\n",
       "    }\n",
       "\n",
       "    .dataframe tbody tr th {\n",
       "        vertical-align: top;\n",
       "    }\n",
       "\n",
       "    .dataframe thead th {\n",
       "        text-align: right;\n",
       "    }\n",
       "</style>\n",
       "<table border=\"1\" class=\"dataframe\">\n",
       "  <thead>\n",
       "    <tr style=\"text-align: right;\">\n",
       "      <th></th>\n",
       "      <th>id</th>\n",
       "      <th>value</th>\n",
       "      <th>relationship</th>\n",
       "      <th>x</th>\n",
       "      <th>y</th>\n",
       "    </tr>\n",
       "  </thead>\n",
       "  <tbody>\n",
       "    <tr>\n",
       "      <th>0</th>\n",
       "      <td>Napoleon</td>\n",
       "      <td>1</td>\n",
       "      <td>Napoleon-&gt;Myriel</td>\n",
       "      <td>-326.57220</td>\n",
       "      <td>-456.103420</td>\n",
       "    </tr>\n",
       "    <tr>\n",
       "      <th>1</th>\n",
       "      <td>Mlle.Baptistine</td>\n",
       "      <td>8</td>\n",
       "      <td>Mlle.Baptistine-&gt;Myriel</td>\n",
       "      <td>-114.60866</td>\n",
       "      <td>-258.695430</td>\n",
       "    </tr>\n",
       "    <tr>\n",
       "      <th>2</th>\n",
       "      <td>Mme.Magloire</td>\n",
       "      <td>10</td>\n",
       "      <td>Mme.Magloire-&gt;Myriel</td>\n",
       "      <td>-147.56654</td>\n",
       "      <td>-247.295490</td>\n",
       "    </tr>\n",
       "    <tr>\n",
       "      <th>3</th>\n",
       "      <td>Mme.Magloire</td>\n",
       "      <td>6</td>\n",
       "      <td>Mme.Magloire-&gt;Mlle.Baptistine</td>\n",
       "      <td>-147.56654</td>\n",
       "      <td>-247.295490</td>\n",
       "    </tr>\n",
       "    <tr>\n",
       "      <th>4</th>\n",
       "      <td>CountessdeLo</td>\n",
       "      <td>1</td>\n",
       "      <td>CountessdeLo-&gt;Myriel</td>\n",
       "      <td>-246.02286</td>\n",
       "      <td>-551.020700</td>\n",
       "    </tr>\n",
       "    <tr>\n",
       "      <th>...</th>\n",
       "      <td>...</td>\n",
       "      <td>...</td>\n",
       "      <td>...</td>\n",
       "      <td>...</td>\n",
       "      <td>...</td>\n",
       "    </tr>\n",
       "    <tr>\n",
       "      <th>503</th>\n",
       "      <td>Grantaire</td>\n",
       "      <td>1</td>\n",
       "      <td>Mme.Hucheloup-&gt;Grantaire</td>\n",
       "      <td>264.61884</td>\n",
       "      <td>83.064170</td>\n",
       "    </tr>\n",
       "    <tr>\n",
       "      <th>504</th>\n",
       "      <td>Bahorel</td>\n",
       "      <td>1</td>\n",
       "      <td>Mme.Hucheloup-&gt;Bahorel</td>\n",
       "      <td>236.94731</td>\n",
       "      <td>115.838650</td>\n",
       "    </tr>\n",
       "    <tr>\n",
       "      <th>505</th>\n",
       "      <td>Courfeyrac</td>\n",
       "      <td>1</td>\n",
       "      <td>Mme.Hucheloup-&gt;Courfeyrac</td>\n",
       "      <td>201.80182</td>\n",
       "      <td>108.211580</td>\n",
       "    </tr>\n",
       "    <tr>\n",
       "      <th>506</th>\n",
       "      <td>Gavroche</td>\n",
       "      <td>1</td>\n",
       "      <td>Mme.Hucheloup-&gt;Gavroche</td>\n",
       "      <td>183.19376</td>\n",
       "      <td>44.461323</td>\n",
       "    </tr>\n",
       "    <tr>\n",
       "      <th>507</th>\n",
       "      <td>Enjolras</td>\n",
       "      <td>1</td>\n",
       "      <td>Mme.Hucheloup-&gt;Enjolras</td>\n",
       "      <td>148.44029</td>\n",
       "      <td>74.285120</td>\n",
       "    </tr>\n",
       "  </tbody>\n",
       "</table>\n",
       "<p>508 rows × 5 columns</p>\n",
       "</div>"
      ],
      "text/plain": [
       "                  id  value                   relationship          x  \\\n",
       "0           Napoleon      1               Napoleon->Myriel -326.57220   \n",
       "1    Mlle.Baptistine      8        Mlle.Baptistine->Myriel -114.60866   \n",
       "2       Mme.Magloire     10           Mme.Magloire->Myriel -147.56654   \n",
       "3       Mme.Magloire      6  Mme.Magloire->Mlle.Baptistine -147.56654   \n",
       "4       CountessdeLo      1           CountessdeLo->Myriel -246.02286   \n",
       "..               ...    ...                            ...        ...   \n",
       "503        Grantaire      1       Mme.Hucheloup->Grantaire  264.61884   \n",
       "504          Bahorel      1         Mme.Hucheloup->Bahorel  236.94731   \n",
       "505       Courfeyrac      1      Mme.Hucheloup->Courfeyrac  201.80182   \n",
       "506         Gavroche      1        Mme.Hucheloup->Gavroche  183.19376   \n",
       "507         Enjolras      1        Mme.Hucheloup->Enjolras  148.44029   \n",
       "\n",
       "              y  \n",
       "0   -456.103420  \n",
       "1   -258.695430  \n",
       "2   -247.295490  \n",
       "3   -247.295490  \n",
       "4   -551.020700  \n",
       "..          ...  \n",
       "503   83.064170  \n",
       "504  115.838650  \n",
       "505  108.211580  \n",
       "506   44.461323  \n",
       "507   74.285120  \n",
       "\n",
       "[508 rows x 5 columns]"
      ]
     },
     "execution_count": 28,
     "metadata": {},
     "output_type": "execute_result"
    }
   ],
   "source": [
    "#좌표값을 merge해줍니다.\n",
    "links_concated = pd.concat([links, links_re]) #데이터 합치기pd.merge(links_concated, coordinates, on='id', how='left')"
   ]
  },
  {
   "cell_type": "code",
   "execution_count": 26,
   "metadata": {},
   "outputs": [],
   "source": [
    "links_concated.to_csv('data/links_concated.csv') #데이터 저장"
   ]
  }
 ],
 "metadata": {
  "kernelspec": {
   "display_name": "Python 3",
   "language": "python",
   "name": "python3"
  },
  "language_info": {
   "codemirror_mode": {
    "name": "ipython",
    "version": 3
   },
   "file_extension": ".py",
   "mimetype": "text/x-python",
   "name": "python",
   "nbconvert_exporter": "python",
   "pygments_lexer": "ipython3",
   "version": "3.8.3"
  }
 },
 "nbformat": 4,
 "nbformat_minor": 4
}
