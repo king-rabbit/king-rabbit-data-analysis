{
 "cells": [
  {
   "cell_type": "code",
   "execution_count": 1,
   "metadata": {},
   "outputs": [],
   "source": [
    "import xml.etree.ElementTree as ET\n",
    "\n",
    "# sample xml file from: https://docs.microsoft.com/en-us/previous-versions/windows/desktop/ms762271(v=vs.85)\n",
    "\n",
    "tree = ET.parse('books.xml') #데이터 가져오기"
   ]
  },
  {
   "cell_type": "code",
   "execution_count": 2,
   "metadata": {},
   "outputs": [],
   "source": [
    "# root 데이터 가져오기\n",
    "root = tree.getroot() # 해당 트리의 root를 반환"
   ]
  },
  {
   "cell_type": "code",
   "execution_count": 6,
   "metadata": {},
   "outputs": [
    {
     "name": "stdout",
     "output_type": "stream",
     "text": [
      "<class 'xml.etree.ElementTree.ElementTree'>\n",
      "<class 'xml.etree.ElementTree.Element'>\n"
     ]
    }
   ],
   "source": [
    "print(type(tree))\n",
    "print(type(root))"
   ]
  },
  {
   "cell_type": "code",
   "execution_count": 7,
   "metadata": {},
   "outputs": [
    {
     "name": "stdout",
     "output_type": "stream",
     "text": [
      "catalog\n",
      "{}\n"
     ]
    }
   ],
   "source": [
    "#Element는 tag와 attribute로 이루어져 있음.\n",
    "print(root.tag)\n",
    "print(root.attrib) #attribute는 딕셔너리 형태임."
   ]
  },
  {
   "cell_type": "code",
   "execution_count": 5,
   "metadata": {},
   "outputs": [
    {
     "name": "stdout",
     "output_type": "stream",
     "text": [
      "book {'id': 'bk101'}\n",
      "book {'id': 'bk102'}\n",
      "book {'id': 'bk103'}\n",
      "book {'id': 'bk104'}\n",
      "book {'id': 'bk105'}\n",
      "book {'id': 'bk106'}\n",
      "book {'id': 'bk107'}\n",
      "book {'id': 'bk108'}\n",
      "book {'id': 'bk109'}\n",
      "book {'id': 'bk110'}\n",
      "book {'id': 'bk111'}\n",
      "book {'id': 'bk112'}\n"
     ]
    }
   ],
   "source": [
    "#element 아래에 자식 노드가 있을 수 있음.\n",
    "for child in root:\n",
    "    print(child.tag, child.attrib)\n",
    "    \n",
    "#여기서 자식 노드들은 book 태그에 각 id값을 attribute로 갖고 있다는 사실을 알 수 있음."
   ]
  },
  {
   "cell_type": "code",
   "execution_count": 14,
   "metadata": {},
   "outputs": [
    {
     "name": "stdout",
     "output_type": "stream",
     "text": [
      "author Gambardella, Matthew\n",
      "title XML Developer's Guide\n",
      "genre Computer\n",
      "price 44.95\n",
      "publish_date 2000-10-01\n",
      "description An in-depth look at creating applications \n",
      "      with XML.\n"
     ]
    }
   ],
   "source": [
    "#root의 자식 노드의 자식 노드를 조회할 수 있음. 태그로 감싸고 있는 텍스트를 조회할 수 있음.\n",
    "#여기서는 첫번째 book element의 태그와 태그별 텍스트를 조회해 봄.\n",
    "for child in root[0]:\n",
    "    print(child.tag, child.text)\n",
    "    \n",
    "#각 book의 저자와 제목, 장르, 가격, 출판일, 설명이 태그별로 저장되어 있고 해당 값이 무엇인지 알 수 있음."
   ]
  },
  {
   "cell_type": "code",
   "execution_count": 15,
   "metadata": {},
   "outputs": [
    {
     "data": {
      "text/plain": [
       "\"XML Developer's Guide\""
      ]
     },
     "execution_count": 15,
     "metadata": {},
     "output_type": "execute_result"
    }
   ],
   "source": [
    "root[0][1].text #인덱스로도 자식 노드를 확인할 수 있음."
   ]
  },
  {
   "cell_type": "code",
   "execution_count": 22,
   "metadata": {},
   "outputs": [
    {
     "name": "stdout",
     "output_type": "stream",
     "text": [
      "Gambardella, Matthew  |  XML Developer's Guide  |  Computer\n",
      "Ralls, Kim  |  Midnight Rain  |  Fantasy\n",
      "Corets, Eva  |  Maeve Ascendant  |  Fantasy\n",
      "Corets, Eva  |  Oberon's Legacy  |  Fantasy\n",
      "Corets, Eva  |  The Sundered Grail  |  Fantasy\n",
      "Randall, Cynthia  |  Lover Birds  |  Romance\n",
      "Thurman, Paula  |  Splish Splash  |  Romance\n",
      "Knorr, Stefan  |  Creepy Crawlies  |  Horror\n",
      "Kress, Peter  |  Paradox Lost  |  Science Fiction\n",
      "O'Brien, Tim  |  Microsoft .NET: The Programming Bible  |  Computer\n",
      "O'Brien, Tim  |  MSXML3: A Comprehensive Guide  |  Computer\n",
      "Galos, Mike  |  Visual Studio 7: A Comprehensive Guide  |  Computer\n"
     ]
    }
   ],
   "source": [
    "# 태그값으로 특정 노드 찾기\n",
    "\n",
    "for book in root.findall('book'):\n",
    "    author = book.find('author').text\n",
    "    title = book.find('title').text\n",
    "    genre = book.find('genre').text\n",
    "    print(author,\" | \", title, \" | \",genre)"
   ]
  },
  {
   "cell_type": "code",
   "execution_count": 27,
   "metadata": {},
   "outputs": [
    {
     "name": "stdout",
     "output_type": "stream",
     "text": [
      "\n",
      "      \n",
      "Gambardella, Matthew\n",
      "\n",
      "      \n",
      "XML Developer's Guide\n",
      "\n",
      "      \n",
      "Computer\n",
      "\n",
      "      \n",
      "44.95\n",
      "\n",
      "      \n",
      "2000-10-01\n",
      "\n",
      "      \n",
      "An in-depth look at creating applications \n",
      "      with XML.\n",
      "\n",
      "   \n"
     ]
    }
   ],
   "source": [
    "#itertext로 내부 텍스트 파악하기\n",
    "for book_text in root[0].itertext(): #현재의 노드를 루트로 하는 트리 이터레이터에서 텍스트만 추출, 모든 내부 텍스트를 반환함.\n",
    "    print(book_text)"
   ]
  },
  {
   "cell_type": "code",
   "execution_count": 30,
   "metadata": {},
   "outputs": [
    {
     "name": "stdout",
     "output_type": "stream",
     "text": [
      "bk101\n",
      "['id']\n",
      "[('id', 'bk101')]\n"
     ]
    }
   ],
   "source": [
    "book1 = root[0]\n",
    "print(book1.get('id')) #attribute key값으로 value값 출력\n",
    "print(book1.keys()) #attribute key값 리스트 가져오기\n",
    "print(book1.items()) #attribute 딕셔너리 시퀀스 반환."
   ]
  },
  {
   "cell_type": "code",
   "execution_count": null,
   "metadata": {},
   "outputs": [],
   "source": []
  },
  {
   "cell_type": "code",
   "execution_count": null,
   "metadata": {},
   "outputs": [],
   "source": []
  }
 ],
 "metadata": {
  "kernelspec": {
   "display_name": "Python 3",
   "language": "python",
   "name": "python3"
  },
  "language_info": {
   "codemirror_mode": {
    "name": "ipython",
    "version": 3
   },
   "file_extension": ".py",
   "mimetype": "text/x-python",
   "name": "python",
   "nbconvert_exporter": "python",
   "pygments_lexer": "ipython3",
   "version": "3.8.3"
  }
 },
 "nbformat": 4,
 "nbformat_minor": 4
}
